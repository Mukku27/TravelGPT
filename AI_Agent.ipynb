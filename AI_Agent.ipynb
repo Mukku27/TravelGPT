{
 "cells": [
  {
   "cell_type": "markdown",
   "metadata": {},
   "source": [
    "### install required libraries "
   ]
  },
  {
   "cell_type": "code",
   "execution_count": null,
   "metadata": {
    "vscode": {
     "languageId": "plaintext"
    }
   },
   "outputs": [],
   "source": [
    "!pip install -q  google.generativeai sentencepiece transformers "
   ]
  },
  {
   "cell_type": "markdown",
   "metadata": {},
   "source": [
    "### Load Environment variables "
   ]
  },
  {
   "cell_type": "code",
   "execution_count": null,
   "metadata": {
    "vscode": {
     "languageId": "plaintext"
    }
   },
   "outputs": [],
   "source": [
    "import os \n",
    "from dotenv import load_dotenv\n",
    "os.environ.get('GEMINI_API_KEY')"
   ]
  },
  {
   "cell_type": "markdown",
   "metadata": {},
   "source": [
    "### import necessary modules "
   ]
  },
  {
   "cell_type": "code",
   "execution_count": null,
   "metadata": {
    "vscode": {
     "languageId": "plaintext"
    }
   },
   "outputs": [],
   "source": [
    "import google.generativeai as genai\n",
    "import re \n",
    "import os \n",
    "import requests\n",
    "from datetime import datetime,timedelta"
   ]
  },
  {
   "cell_type": "markdown",
   "metadata": {},
   "source": [
    "### Creating the Agent Class"
   ]
  },
  {
   "cell_type": "code",
   "execution_count": null,
   "metadata": {
    "vscode": {
     "languageId": "plaintext"
    }
   },
   "outputs": [],
   "source": [
    "class TravelAgent:\n",
    "   def __init__(self,system prompt ,initial_budget=1000):\n",
    "        self.system_prompt=system_prompt\n",
    "        self.budget=initial_budget\n",
    "        self.messages=[\n",
    "            {\n",
    "             'role':'system',\n",
    "             'content':system_prompt\n",
    "            },\n",
    "\n",
    "            {\n",
    "             'role':'system',\n",
    "             'content':f'The current budget  is $(self.budegt).' \n",
    "            }\n",
    "        ]\n",
    "        self.memory=[]\n",
    "\n",
    "   def __call__(self,user_input):\n",
    "       self.messages.append({'role':''user','content':user_input})\n",
    "       response=self.execute()\n",
    "       self.messages.append({'role':'assistant','content':response})\n",
    "       return response\n",
    "\n",
    "   def execute(self):\n",
    "       completion=client.chat.completions.create(\n",
    "        model='gemini-1.5-flash',\n",
    "        messages.self.messages,\n",
    "        temperature =0.7\n",
    "       )\n",
    "       return completion.choices[0].message.content\n",
    "\n",
    "   def add_to_memory(self,action,result):\n",
    "      self.memory.append(f\"Action:{action},Result:{result}\")\n",
    "\n",
    "   def set_budget(self,amount):\n",
    "       self.budget=amount\n",
    "       self.messages.append({'role':'system','content':f'The current budget is $(self.budget).'})\n",
    "\n",
    "   def get_budget(self):\n",
    "      return self.budget\n"
   ]
  },
  {
   "cell_type": "markdown",
   "metadata": {},
   "source": [
    "## Tools for the Agent "
   ]
  },
  {
   "cell_type": "markdown",
   "metadata": {},
   "source": [
    "### Currency convertor \n"
   ]
  },
  {
   "cell_type": "code",
   "execution_count": null,
   "metadata": {
    "vscode": {
     "languageId": "plaintext"
    }
   },
   "outputs": [],
   "source": []
  }
 ],
 "metadata": {
  "language_info": {
   "name": "python"
  }
 },
 "nbformat": 4,
 "nbformat_minor": 2
}
