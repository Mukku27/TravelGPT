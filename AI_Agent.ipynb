{
 "cells": [
  {
   "cell_type": "markdown",
   "metadata": {},
   "source": [
    "### install required libraries "
   ]
  },
  {
   "cell_type": "code",
   "execution_count": 1,
   "metadata": {},
   "outputs": [],
   "source": [
    "!pip install -q  google-generativeai python-dotenv"
   ]
  },
  {
   "cell_type": "markdown",
   "metadata": {},
   "source": [
    "### Load Environment variables "
   ]
  },
  {
   "cell_type": "code",
   "execution_count": 2,
   "metadata": {},
   "outputs": [
    {
     "name": "stdout",
     "output_type": "stream",
     "text": [
      "API keys fetched successfully\n"
     ]
    }
   ],
   "source": [
    "import os \n",
    "from dotenv import load_dotenv\n",
    "load_dotenv()\n",
    "gemini_key = os.environ.get('GEMINI_API_KEY')\n",
    "openweather_key = os.environ.get('OPENWEATHERMAP_API_KEY')\n",
    "if gemini_key and openweather_key:\n",
    "    print('API keys fetched successfully')"
   ]
  },
  {
   "cell_type": "markdown",
   "metadata": {},
   "source": [
    "### import necessary modules "
   ]
  },
  {
   "cell_type": "code",
   "execution_count": 3,
   "metadata": {},
   "outputs": [
    {
     "name": "stderr",
     "output_type": "stream",
     "text": [
      "/home/mukesh/Github-my repos/Generative AI projects/TravelGPT/travelGPT/lib/python3.10/site-packages/tqdm/auto.py:21: TqdmWarning: IProgress not found. Please update jupyter and ipywidgets. See https://ipywidgets.readthedocs.io/en/stable/user_install.html\n",
      "  from .autonotebook import tqdm as notebook_tqdm\n"
     ]
    }
   ],
   "source": [
    "import google.generativeai as genai\n",
    "import re \n",
    "import os \n",
    "import requests\n",
    "from datetime import datetime,timedelta"
   ]
  },
  {
   "cell_type": "markdown",
   "metadata": {},
   "source": [
    "### Creating the Agent Class"
   ]
  },
  {
   "cell_type": "code",
   "execution_count": 4,
   "metadata": {},
   "outputs": [],
   "source": [
    "\n",
    "\n",
    "class ChatHistoryManager:\n",
    "    def __init__(self, filename=\"travel_agent_chat_history.txt\", max_file_size_mb=5):\n",
    "        self.history = []\n",
    "        self.filename = filename\n",
    "        self.max_file_size_mb = max_file_size_mb\n",
    "\n",
    "    def add_message(self, role, text):\n",
    "        timestamp = datetime.now().strftime(\"%Y-%m-%d %H:%M:%S\")\n",
    "        self.history.append(\n",
    "            {'role': role, 'text': text, 'timestamp': timestamp})\n",
    "\n",
    "    def save_to_file(self):\n",
    "        self._rotate_file_if_needed()\n",
    "        with open(self.filename, \"a\", encoding=\"utf-8\") as file:\n",
    "            for message in self.history:\n",
    "                file.write(\n",
    "                    f\"{message['timestamp']} {message['role']}: {message['text']}\\n\")\n",
    "        self.history.clear()\n",
    "\n",
    "    def display(self):\n",
    "        for message in self.history:\n",
    "            print(\n",
    "                f\"{message['timestamp']} {message['role']}: {message['text']}\")\n",
    "\n",
    "    def _rotate_file_if_needed(self):\n",
    "        if not os.path.exists(self.filename):\n",
    "            with open(self.filename, \"a\", encoding=\"utf-8\") as file:\n",
    "                pass\n",
    "\n",
    "        if os.path.getsize(self.filename) > self.max_file_size_mb * 1024 * 1024:\n",
    "            os.rename(self.filename, self.filename + \".backup\")\n",
    "\n",
    "\n",
    "class TravelAgent:\n",
    "    def __init__(self, system_prompt, initial_budget=1000):\n",
    "     \n",
    "\n",
    "        # Configure Generative AI\n",
    "        genai.configure(api_key=gemini_key)\n",
    "\n",
    "        self.system_prompt = system_prompt\n",
    "        self.budget = initial_budget\n",
    "        self.history_manager = ChatHistoryManager()\n",
    "        self.history_manager.add_message(\"system\", system_prompt)\n",
    "        self.history_manager.add_message(\"system\", f\"The current budget is ${self.budget}.\")\n",
    "        \n",
    "        self.generation_config = {\n",
    "            \"temperature\": 0.1,\n",
    "            \"top_p\": 1,\n",
    "            \"top_k\": 1,\n",
    "            \"max_output_tokens\": 2048,\n",
    "        }\n",
    "\n",
    "        self.safety_settings = {\n",
    "            \"HARM_CATEGORY_HARASSMENT\": \"BLOCK_NONE\",\n",
    "            \"HARM_CATEGORY_HATE_SPEECH\": \"BLOCK_NONE\",\n",
    "            \"HARM_CATEGORY_SEXUALLY_EXPLICIT\": \"BLOCK_NONE\",\n",
    "            \"HARM_CATEGORY_DANGEROUS_CONTENT\": \"BLOCK_NONE\",\n",
    "        }\n",
    "\n",
    "        self.model = genai.GenerativeModel(\n",
    "            'gemini-1.5-flash', generation_config=self.generation_config, safety_settings=self.safety_settings\n",
    "        )\n",
    "        self.chat = self.model.start_chat(history=[])\n",
    "\n",
    "    def __call__(self, user_input):\n",
    "        if user_input.lower() == \"history\":\n",
    "            self.history_manager.display()\n",
    "            return\n",
    "\n",
    "        if user_input.lower() == \"restart\":\n",
    "            self.history_manager.save_to_file()\n",
    "            os.system('cls' if os.name == 'nt' else 'clear')\n",
    "            self.history_manager.add_message(\"system\", \"--- New Session ---\")\n",
    "            self.chat = self.model.start_chat(history=[])\n",
    "            return \"Session restarted.\"\n",
    "\n",
    "        if user_input.lower() == \"exit\":\n",
    "            self.history_manager.save_to_file()\n",
    "            return \"Session ended. Chat history saved.\"\n",
    "\n",
    "        try:\n",
    "            # Append user input to history and send to model\n",
    "            self.history_manager.add_message(\"user\", user_input)\n",
    "            response = self.chat.send_message(user_input, stream=True)\n",
    "            \n",
    "            response_text = \"\"\n",
    "            for chunk in response:\n",
    "                if chunk.text.endswith(\".\"):\n",
    "                    response_text += chunk.text\n",
    "                else:\n",
    "                    response_text += re.sub(r'\\s*$', '.', chunk.text)\n",
    "                print(chunk.text, end=\"\", flush=True)  # Stream response to user\n",
    "\n",
    "            # Save response to history\n",
    "            self.history_manager.add_message(\"assistant\", response_text)\n",
    "            return response_text\n",
    "\n",
    "        except Exception as e:\n",
    "            return f\"An error occurred: {e}\"\n",
    "\n",
    "    def set_budget(self, amount):\n",
    "        self.budget = amount\n",
    "        self.history_manager.add_message(\"system\", f\"The current budget is now ${self.budget}.\")\n",
    "\n",
    "    def get_budget(self):\n",
    "        return self.budget\n"
   ]
  },
  {
   "cell_type": "markdown",
   "metadata": {},
   "source": [
    "## Tools for the Agent "
   ]
  },
  {
   "cell_type": "markdown",
   "metadata": {},
   "source": [
    "### Currency convertor \n"
   ]
  },
  {
   "cell_type": "code",
   "execution_count": 5,
   "metadata": {},
   "outputs": [],
   "source": [
    "def convert_currency(amount,from_currency,to_currency):\n",
    "    import requests\n",
    "    url = \"https://api.exchangerate-api.com/v4/latest/\" + from_currency\n",
    "    response = requests.get(url)\n",
    "    data = response.json()\n",
    "    rate = data['rates'][to_currency]\n",
    "    converted_amount = amount * rate\n",
    "    return round(converted_amount,2)\n"
   ]
  },
  {
   "cell_type": "code",
   "execution_count": 6,
   "metadata": {},
   "outputs": [
    {
     "data": {
      "text/plain": [
       "8497.0"
      ]
     },
     "execution_count": 6,
     "metadata": {},
     "output_type": "execute_result"
    }
   ],
   "source": [
    "convert_currency(100,'USD','INR')"
   ]
  },
  {
   "cell_type": "markdown",
   "metadata": {},
   "source": [
    "### Weather Tool"
   ]
  },
  {
   "cell_type": "code",
   "execution_count": 7,
   "metadata": {},
   "outputs": [],
   "source": [
    "def get_weather(location:str,days_ahead:int =0)->str:\n",
    "    import datetime\n",
    "    api_key = os.environ.get(\"OPENWEATHERMAP_API_KEY\") \n",
    "    future_date = datetime.date.today() + datetime.timedelta(days=days_ahead)\n",
    "    url = f\"http://api.openweathermap.org/data/2.5/forecast?q={location}&appid={api_key}&units=metric&dt={int(datetime.datetime(future_date.year,future_date.month,future_date.day,12,0,0).timestamp())}\"\n",
    "    response = requests.get(url)\n",
    "    data = response.json()\n",
    "    if response.status_code == 200:\n",
    "        try:\n",
    "            temperature = data['list'][0]['main']['temp']\n",
    "            description = data['list'][0]['weather'][0]['description']\n",
    "            country = data['city']['country'] #Added this line to extract country\n",
    "            return f\"The weather in {location}, {country} on {future_date} will be {description} with a temperature of {temperature}°C.\"\n",
    "        except (KeyError, IndexError):\n",
    "            return f\"Error getting weather data for {location} on {future_date}.  Data not found in response.\"\n",
    "\n",
    "    else:\n",
    "        return f\"Error getting weather data for {location} on {future_date}. Status code: {response.status_code}\"\n"
   ]
  },
  {
   "cell_type": "code",
   "execution_count": 8,
   "metadata": {},
   "outputs": [
    {
     "data": {
      "text/plain": [
       "'The weather in Dubai, AE on 2024-12-21 will be broken clouds with a temperature of 21.48°C.'"
      ]
     },
     "execution_count": 8,
     "metadata": {},
     "output_type": "execute_result"
    }
   ],
   "source": [
    "get_weather('Dubai',3)"
   ]
  },
  {
   "cell_type": "markdown",
   "metadata": {},
   "source": [
    "### Translation tool"
   ]
  },
  {
   "cell_type": "code",
   "execution_count": 9,
   "metadata": {},
   "outputs": [],
   "source": [
    "from deep_translator import GoogleTranslator\n",
    "\n",
    "def translate_text(text, target_language):\n",
    "    \"\"\"\n",
    "    Translate text into the specified target language using deep-translator.\n",
    "\n",
    "    Parameters:\n",
    "        text (str): The text to translate.\n",
    "        target_language (str): The target language code (e.g., 'en' for English, 'fr' for French).\n",
    "\n",
    "    Returns:\n",
    "        str: The translated text.\n",
    "    \"\"\"\n",
    "    try:\n",
    "        # Initialize the translator\n",
    "        translator = GoogleTranslator(source='auto', target=target_language)\n",
    "        \n",
    "        # Perform translation\n",
    "        translated_text = translator.translate(text)\n",
    "        \n",
    "        return translated_text\n",
    "    except Exception as e:\n",
    "        return f\"An error occurred: {e}\""
   ]
  },
  {
   "cell_type": "code",
   "execution_count": 10,
   "metadata": {},
   "outputs": [
    {
     "name": "stdout",
     "output_type": "stream",
     "text": [
      "Translated text: Hello how are you?\n"
     ]
    }
   ],
   "source": [
    "# Example usage:\n",
    "original_text = \"Hola, ¿cómo estás?\"\n",
    "target_language = \"en\"  # Translate to English\n",
    "translated_text = translate_text(original_text, target_language)\n",
    "print(\"Translated text:\", translated_text)"
   ]
  },
  {
   "cell_type": "markdown",
   "metadata": {},
   "source": [
    "### Prompt "
   ]
  },
  {
   "cell_type": "code",
   "execution_count": 11,
   "metadata": {},
   "outputs": [],
   "source": [
    "travel_agent_prompt=\"\"\" You are a Travel Planning Assistant. Your role is to help users plan their trips by providing information about destinations, currency conversion, weather forecasts, and language translation.\n",
    "\n",
    "You run in a loop of Thought, Action, PAUSE, Observation.\n",
    "Use Thought to describe your reasoning about the user's request.\n",
    "Use Action to perform one of the available actions, then return PAUSE.\n",
    "Observation will be the result of running those actions.\n",
    "\n",
    "Your available actions are:\n",
    "\n",
    "1. convert_currency:\n",
    "             e.g., convert_currency: 100, USD, EUR\n",
    "             Converts the given amount from one currency to another.\n",
    "\n",
    "2. get_weather:\n",
    "             e.g. get_weather: Paris, 3\n",
    "             Gets the weather forecast for the specified city and number of days ahead (e.g. for today).\n",
    "\n",
    "3. translate_text:\n",
    "             e.g., translate_text: Hello, how are you?, fr\n",
    "             Translates the given text to the specified target language (use language codes like 'fr' for French).\n",
    "\n",
    "Always consider the user's budget when making suggestions. The current budget will be provided in the system messages.\n",
    "\n",
    "Example session:\n",
    "\n",
    "User: I'm planning a trip to Paris next week. What should I know?\n",
    "\n",
    "Thought: I should check the weather in Paris for next week and provide some basic French phrases.\n",
    "Action: get_weather: Paris, 7\n",
    "\n",
    "PAUSE\n",
    "\n",
    "Observation: Partly cloudy, 22°C\n",
    "\n",
    "Thought: Now that I have the weather information, I should provide a simple French phrase and its translation.\n",
    "Action: translate_text: Hello, how are you?, fr\n",
    "\n",
    "PAUSE\n",
    "\n",
    "Observation: Bonjour, comment allez-vous?\n",
    "\n",
    "Answer: Great! For your trip to Paris next week, here's what you should know:\n",
    "\n",
    "1. Weather: It's expected to be partly cloudy with a temperature of 22°C (72°F). Pack accordingly with light layers and maybe a light jacket for evenings.\n",
    "\n",
    "2. Language: While many people in Paris speak some English, it's always appreciated if you try some basic French. Here's a useful phrase: \"Hello, how are you?\" in French is \"Bonjour, comment allez-vous?\"\n",
    "\n",
    "Remember to consider the budget for your trip and let me know if you need any currency conversion or have any other questions about your Paris adventure!\n",
    "\n",
    "\"\"\""
   ]
  },
  {
   "cell_type": "markdown",
   "metadata": {},
   "source": [
    "## Buidling  the AI Travel Agent \n",
    "\n"
   ]
  },
  {
   "cell_type": "markdown",
   "metadata": {},
   "source": [
    "### Directory of available actions \n"
   ]
  },
  {
   "cell_type": "code",
   "execution_count": 12,
   "metadata": {},
   "outputs": [],
   "source": [
    "known_actions = {\n",
    "    \"convert_currency\": convert_currency,\n",
    "    \"get_weather\": get_weather,\n",
    "    \"translate_text\": translate_text\n",
    "}\n"
   ]
  },
  {
   "cell_type": "markdown",
   "metadata": {},
   "source": [
    "### format markdown function"
   ]
  },
  {
   "cell_type": "code",
   "execution_count": 13,
   "metadata": {},
   "outputs": [],
   "source": [
    "def format_markdown(markdown_text):\n",
    "        \"\"\"Converts markdown text to a well-formatted preview.\"\"\"\n",
    "        try:\n",
    "            from IPython.display import Markdown, display\n",
    "            display(Markdown(markdown_text))\n",
    "        except ImportError:\n",
    "            print(\"IPython.display not found. Please install it using 'pip install ipython'\")\n",
    "            print(markdown_text)"
   ]
  },
  {
   "cell_type": "markdown",
   "metadata": {},
   "source": [
    "### AI Travel Agent "
   ]
  },
  {
   "cell_type": "code",
   "execution_count": 14,
   "metadata": {},
   "outputs": [],
   "source": [
    "def plan_trip(question,max_turns=1):\n",
    "    agent =TravelAgent(travel_agent_prompt)\n",
    "\n",
    "    budget_match=re.search(r'\\$(\\d+)',question)\n",
    "    if budget_match:\n",
    "        budget=int(budget_match.group(1))\n",
    "        agent.set_budget(budget)\n",
    "\n",
    "    next_prompt=question\n",
    "    \n",
    "    action_re=re.compile(r'^Action:(\\w+):(.+)$')\n",
    "\n",
    "    for i in range(max_turns):\n",
    "        result=agent(next_prompt)\n",
    "        format_markdown(result)\n",
    "\n",
    "        actions=[action_re.match(a) for a in result.split('\\n') if action_re.match(a)]\n",
    "\n",
    "        if actions:\n",
    "            action,action_input=actions[0].groups()\n",
    "\n",
    "            if action not in known_actions:\n",
    "                print(f\"Unknown action :{action}:{action_input}\")\n",
    "                continue\n",
    "\n",
    "            print(f'-- running {action}:{action_input}')\n",
    "\n",
    "            try:\n",
    "                if action =='convert_currency':\n",
    "                    amount,from_currency,to_currency=action_input.split(',')\n",
    "                    observation=known_actions[action](float(amount),from_currency.strip(),to_currency.strip())\n",
    "                elif action == 'get_weather':\n",
    "                    location,*days=action_input.split(',')\n",
    "                    days_ahead=int(days[0]) if days else 0\n",
    "                    observation=known_actions[action](location.strip(),days_ahead)\n",
    "                elif action =='translate_text':\n",
    "                    if ',' in action_input:\n",
    "                        text,target_lang=action_input.rsplit(',',1)\n",
    "                    else:\n",
    "                        text ,target_lang= action_input.rsplit(None,1)\n",
    "\n",
    "                    observation = known_actions[action](text.strip(),target_lang.strip())\n",
    "\n",
    "                print(f'Observation : {observation}')\n",
    "                agent.add_to_memory(action,observation)\n",
    "                next_prompt= f'Observation:{observation}'\n",
    "            except  Exception as e:\n",
    "                print(f\"Error executing action :{e}\")\n",
    "                next_prompt=f'Error : Unable to execute action {action}.please try again'\n",
    "        else:\n",
    "            return\n",
    "                         \n",
    "                                                      "
   ]
  },
  {
   "cell_type": "markdown",
   "metadata": {},
   "source": [
    "### Experiment\n"
   ]
  },
  {
   "cell_type": "code",
   "execution_count": 16,
   "metadata": {},
   "outputs": [
    {
     "name": "stdout",
     "output_type": "stream",
     "text": [
      "A 3-day trip to Visakhapatnam (Vizag) on a ₹2000 budget will require careful planning.  This budget is extremely tight, especially if you're travelling from outside Vizag.  It's likely you'll need to make compromises on comfort and potentially skip some attractions.  Here's a possible plan, focusing on maximizing your experience within your constraints:\n",
      "\n",
      "**Before you go:**\n",
      "\n",
      "* **Transportation:**  The biggest chunk of your budget will likely be transportation. If you're travelling from another city, consider the cheapest option – a state-run bus.  Book in advance for better prices. Within Vizag, rely heavily on auto-rickshaws (negotiate fares beforehand) or city buses (very cheap).\n",
      "* **Accommodation:**  Forget hotels.  Your budget necessitates staying in a hostel or a very basic guesthouse. Look for options well in advance on platforms like MakeMyTrip or Goibibo, filtering by price.  Consider sharing a room to reduce costs.  Alternatively, if you know someone in Vizag, staying with them would be ideal.\n",
      "* **Food:**  Street food is your friend!  Avoid restaurants unless it's a very special occasion.  Pack some snacks and water bottles to avoid frequent food purchases.  Local eateries will offer much cheaper meals than tourist-oriented restaurants.\n",
      "* **Packing:**  Pack light! This saves on baggage fees if travelling by bus.  Essentials include comfortable walking shoes, light clothing suitable for warm weather, sunscreen, a hat, insect repellent, and any necessary medications.\n",
      "* **Itinerary:**  Plan your sightseeing carefully. Prioritize free or low-cost activities.\n",
      "\n",
      "**Possible 3-Day Itinerary (Budget-Friendly):**\n",
      "\n",
      "**Day 1:**\n",
      "\n",
      "* **Morning:** Arrive in Vizag, check into your accommodation.\n",
      "* **Afternoon:** Visit RK Beach (free). Enjoy the sea breeze, maybe a small street food snack.\n",
      "* **Evening:** Explore the beach further, watch the sunset.\n",
      "\n",
      "**Day 2:**\n",
      "\n",
      "* **Morning:** Visit Kailasagiri Hill Park (entry fee applicable, but relatively inexpensive). Enjoy the views.  Consider walking up instead of taking the ropeway to save money.\n",
      "* **Afternoon:**  Explore the local markets for souvenirs (be prepared to bargain hard).\n",
      "* **Evening:**  Enjoy street food for dinner.\n",
      "\n",
      "**Day 3:**\n",
      "\n",
      "* **Morning:** Visit the VUDA Park (free or minimal entry fee).\n",
      "* **Afternoon:**  Depending on time and energy, you could visit a temple (many are free to enter).\n",
      "* **Evening:** Depart from Vizag.\n",
      "\n",
      "**Important Considerations:**\n",
      "\n",
      "* **₹2000 is extremely tight:** This budget might only cover your travel and basic accommodation. Food and entry fees to attractions will eat into this significantly.  You might need to adjust your expectations or find ways to supplement your budget.\n",
      "* **Negotiate prices:**  Always negotiate with auto-rickshaw drivers and street vendors.\n",
      "* **Travel during off-season:** If possible, avoid peak tourist season for better deals on accommodation.\n",
      "* **Prioritize:** Choose the attractions that are most important to you and focus on those.\n",
      "\n",
      "**To make this work, you'll likely need to:**\n",
      "\n",
      "* **Travel during the off-season:** This will significantly reduce accommodation costs.\n",
      "* **Stay in a dorm or shared room:** This is the only way to keep accommodation costs low.\n",
      "* **Eat mostly street food:** This is the cheapest and most authentic way to experience Vizag's culinary scene.\n",
      "* **Walk or use public transport:** This will save you a lot of money on transportation.\n",
      "\n",
      "Realistically, ₹2000 might be insufficient for a comfortable 3-day trip to Vizag unless you have significant external support (free accommodation, etc.).  Consider revising your budget or trip duration for a more enjoyable experience.\n"
     ]
    },
    {
     "data": {
      "text/markdown": [
       "A. 3-day trip to Visakhapatnam (Vizag) on a. ₹2000 budget will require careful planning.  This budget is extremely. tight, especially if you're travelling from outside Vizag.  It's likely you'll need to make compromises on comfort and potentially skip some attractions..  Here's a possible plan, focusing on maximizing your experience within your constraints:\n",
       "\n",
       "**Before you go:**\n",
       "\n",
       "* **Transportation:**  The biggest. chunk of your budget will likely be transportation. If you're travelling from another city, consider the cheapest option – a state-run bus.  Book in advance for better prices. Within Vizag, rely heavily on auto-ricksha.ws (negotiate fares beforehand) or city buses (very cheap).\n",
       "* **Accommodation:**  Forget hotels.  Your budget necessitates staying in a hostel or a very basic guesthouse. Look for options well in advance on platforms like MakeMy.Trip or Goibibo, filtering by price.  Consider sharing a room to reduce costs.  Alternatively, if you know someone in Vizag, staying with them would be ideal.\n",
       "* **Food:**  Street food is your friend!  Avoid restaurants unless it's a very special occasion.  Pack some. snacks and water bottles to avoid frequent food purchases.  Local eateries will offer much cheaper meals than tourist-oriented restaurants.\n",
       "* **Packing:**  Pack light! This saves on baggage fees if travelling by bus.  Essentials include comfortable walking shoes, light clothing suitable for warm weather, sunscreen, a hat, insect repellent., and any necessary medications.\n",
       "* **Itinerary:**  Plan your sightseeing carefully. Prioritize free or low-cost activities.\n",
       "\n",
       "**Possible 3-Day Itinerary (Budget-Friendly):**\n",
       "\n",
       "**Day 1:**\n",
       "\n",
       "* **Morning:** Arrive in Vizag, check into your accommodation.\n",
       "* **.Afternoon:** Visit RK Beach (free). Enjoy the sea breeze, maybe a small street food snack.\n",
       "* **Evening:** Explore the beach further, watch the sunset.\n",
       "\n",
       "**Day 2:**\n",
       "\n",
       "* **Morning:** Visit Kailasagiri Hill Park (entry fee applicable, but relatively inexpensive). Enjoy the views..  Consider walking up instead of taking the ropeway to save money.\n",
       "* **Afternoon:**  Explore the local markets for souvenirs (be prepared to bargain hard).\n",
       "* **Evening:**  Enjoy street food for dinner.\n",
       "\n",
       "**Day 3:**\n",
       "\n",
       "* **Morning:** Visit the VUDA Park (free. or minimal entry fee).\n",
       "* **Afternoon:**  Depending on time and energy, you could visit a temple (many are free to enter).\n",
       "* **Evening:** Depart from Vizag.\n",
       "\n",
       "**Important Considerations:**\n",
       "\n",
       "* **₹2000 is extremely tight:** This budget might only cover your travel and. basic accommodation. Food and entry fees to attractions will eat into this significantly.  You might need to adjust your expectations or find ways to supplement your budget.\n",
       "* **Negotiate prices:**  Always negotiate with auto-rickshaw drivers and street vendors.\n",
       "* **Travel during off-season:** If possible, avoid. peak tourist season for better deals on accommodation.\n",
       "* **Prioritize:** Choose the attractions that are most important to you and focus on those.\n",
       "\n",
       "**To make this work, you'll likely need to:**\n",
       "\n",
       "* **Travel during the off-season:** This will significantly reduce accommodation costs.\n",
       "* **Stay. in a dorm or shared room:** This is the only way to keep accommodation costs low.\n",
       "* **Eat mostly street food:** This is the cheapest and most authentic way to experience Vizag's culinary scene.\n",
       "* **Walk or use public transport:** This will save you a lot of money on transportation...Realistically, ₹2000 might be insufficient for a comfortable 3-day trip to Vizag unless you have significant external support (free accommodation, etc.).  Consider revising your budget or trip duration for a more enjoyable experience..."
      ],
      "text/plain": [
       "<IPython.core.display.Markdown object>"
      ]
     },
     "metadata": {},
     "output_type": "display_data"
    }
   ],
   "source": [
    "question = \"i am planing a 3 days  trip to vizag in the next week . my budget is 2000 INR .what  should i prepare ?\"\n",
    "result=plan_trip(question)"
   ]
  },
  {
   "cell_type": "code",
   "execution_count": null,
   "metadata": {},
   "outputs": [],
   "source": []
  }
 ],
 "metadata": {
  "kernelspec": {
   "display_name": "travelGPT",
   "language": "python",
   "name": "python3"
  },
  "language_info": {
   "codemirror_mode": {
    "name": "ipython",
    "version": 3
   },
   "file_extension": ".py",
   "mimetype": "text/x-python",
   "name": "python",
   "nbconvert_exporter": "python",
   "pygments_lexer": "ipython3",
   "version": "3.10.12"
  }
 },
 "nbformat": 4,
 "nbformat_minor": 2
}
